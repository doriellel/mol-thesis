{
 "cells": [
  {
   "cell_type": "markdown",
   "metadata": {},
   "source": [
    "### Obtain entities for anthroscore evaluation\n",
    "\n",
    "The entities used for the basic anthroscore evaluation (experiment 1) are taken from the mask and then manually revised. This is to make sure that plurals of LLM, LM (LLMs, LMs) are included, as the anthroscore tokenization does not recognize these as plural inflections of \n",
    "\n"
   ]
  },
  {
   "cell_type": "code",
   "execution_count": 15,
   "metadata": {},
   "outputs": [
    {
     "name": "stdout",
     "output_type": "stream",
     "text": [
      "Creating Anthroscore entity lists for adjective_phrases_inconclusive...\n",
      "Creating Anthroscore entity lists for adjective_phrases_negative...\n",
      "Creating Anthroscore entity lists for adjective_phrases_positive...\n",
      "Creating Anthroscore entity lists for comparisons_inconclusive...\n",
      "Creating Anthroscore entity lists for noun_phrases_positive...\n",
      "Creating Anthroscore entity lists for possessives_positive...\n",
      "Creating Anthroscore entity lists for verb_objects_inconclusive...\n",
      "Creating Anthroscore entity lists for verb_objects_negative...\n",
      "Creating Anthroscore entity lists for verb_objects_positive...\n",
      "Creating Anthroscore entity lists for verb_subjects_inconclusive...\n",
      "Creating Anthroscore entity lists for verb_subjects_negative...\n",
      "Creating Anthroscore entity lists for verb_subjects_positive...\n"
     ]
    }
   ],
   "source": [
    "import csv\n",
    "import re\n",
    "\n",
    "def normalized(string):\n",
    "    return re.sub(r'\\s+', ' ', string.strip())\n",
    "    \n",
    "def create_anthroscore_entity_files(filename):\n",
    "    \"\"\"\n",
    "    this function reads the csv files and returns new txt files with the AI entities needed for the AnthroScore evaluation\n",
    "    :param filename: name of the file to be processed\n",
    "    :type sentence: string\n",
    "    \"\"\" \n",
    "    with open(f\"../experiment_1/anthroscore/entities/{filename}_entities.txt\",\"w\") as outfile:\n",
    "\n",
    "        entities = []\n",
    "        \n",
    "        writer = csv.writer(outfile)\n",
    "        infile = open(f\"../experiment_1/anthroscore/expectations/{filename}.csv\",\"r\")\n",
    "        header = infile.readline()\n",
    "        reader = csv.reader(infile)\n",
    "        \n",
    "        for row in reader:\n",
    "            AI_entity = normalized(row[3]) # these are the suggested AI masks\n",
    "            entities.append(AI_entity)\n",
    "\n",
    "        for entity in list(set(entities)):\n",
    "            writer.writerow([entity])\n",
    "\n",
    "files = [\"adjective_phrases_inconclusive\",\n",
    "         \"adjective_phrases_negative\",\n",
    "         \"adjective_phrases_positive\",\n",
    "         \"comparisons_inconclusive\",\n",
    "         \"noun_phrases_positive\",\n",
    "         \"possessives_positive\",\n",
    "         \"verb_objects_inconclusive\",\n",
    "         \"verb_objects_negative\",\n",
    "         \"verb_objects_positive\",\n",
    "         \"verb_subjects_inconclusive\",\n",
    "         \"verb_subjects_negative\",\n",
    "         \"verb_subjects_positive\"\n",
    "        ]\n",
    "            \n",
    "for file in files:\n",
    "    print(f\"Creating Anthroscore entity lists for {file}...\")\n",
    "    create_anthroscore_entity_files(file)"
   ]
  },
  {
   "cell_type": "code",
   "execution_count": null,
   "metadata": {},
   "outputs": [],
   "source": []
  }
 ],
 "metadata": {
  "interpreter": {
   "hash": "1f37b899a14b1e53256e3dbe85dea3859019f1cb8d1c44a9c4840877cfd0e7ef"
  },
  "kernelspec": {
   "display_name": "Python (.venv)",
   "language": "python",
   "name": ".venv"
  },
  "language_info": {
   "codemirror_mode": {
    "name": "ipython",
    "version": 3
   },
   "file_extension": ".py",
   "mimetype": "text/x-python",
   "name": "python",
   "nbconvert_exporter": "python",
   "pygments_lexer": "ipython3",
   "version": "3.12.7"
  }
 },
 "nbformat": 4,
 "nbformat_minor": 4
}
