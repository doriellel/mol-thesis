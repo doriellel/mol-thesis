{
 "cells": [
  {
   "cell_type": "markdown",
   "metadata": {},
   "source": [
    "### Conversion utilities\n",
    "\n",
    "This notebook contains conversion utilities for pre- and post-processing evaluation sets as needed."
   ]
  },
  {
   "cell_type": "code",
   "execution_count": 1,
   "metadata": {},
   "outputs": [],
   "source": [
    "# imports\n",
    "\n",
    "import pickle\n",
    "import pandas as pd"
   ]
  },
  {
   "cell_type": "code",
   "execution_count": 2,
   "metadata": {},
   "outputs": [],
   "source": [
    "files = [\"adjective_phrases_inconclusive\",\n",
    "         \"adjective_phrases_negative\",\n",
    "         \"adjective_phrases_positive\",\n",
    "         \"comparisons_inconclusive\",\n",
    "         \"noun_phrases_positive\",\n",
    "         \"possessives_positive\",\n",
    "         \"verb_objects_inconclusive\",\n",
    "         \"verb_objects_negative\",\n",
    "         \"verb_objects_positive\",\n",
    "         \"verb_subjects_inconclusive\",\n",
    "         \"verb_subjects_negative\",\n",
    "         \"verb_subjects_positive\"\n",
    "        ]"
   ]
  },
  {
   "cell_type": "markdown",
   "metadata": {},
   "source": [
    "#### Convert initial .txt files to .csv\n",
    "\n",
    "The input txt files were manually compiled and annotated.\n",
    "The output csv files are used as input for the AnthroScore evaluation in experiment 1, and for creating the AtypicalAnimacy flavored evaluation sets (+ .pkl) in experiment 2."
   ]
  },
  {
   "cell_type": "code",
   "execution_count": 15,
   "metadata": {},
   "outputs": [],
   "source": [
    "import pandas as pd\n",
    "\n",
    "for file in nouns:\n",
    "    column_names = ['id', 'sentence', 'AI phrase', 'mask', 'AI entity', 'anthro component', 'score']\n",
    "    df = pd.read_csv(f'../data/evaluation_sentences_txt/{file}.txt', sep='\\t', header=None, names=column_names,index_col=False)\n",
    "    df.to_csv(f'../data/evaluation_sentences_csv/{file}.csv', index=False)  # comma is the default delimiter"
   ]
  },
  {
   "cell_type": "markdown",
   "metadata": {},
   "source": [
    "#### Check if Pia and Jelke's IAA sentences exist in the evaluation sets after revision"
   ]
  },
  {
   "cell_type": "code",
   "execution_count": 6,
   "metadata": {},
   "outputs": [
    {
     "name": "stdout",
     "output_type": "stream",
     "text": [
      "found 42 ids out of 42 sentences in Pia's evaluation set\n",
      "found 42 ids out of 42 sentences in Jelke's evaluation set\n"
     ]
    }
   ],
   "source": [
    "import csv\n",
    "import re\n",
    "\n",
    "def normalized(string):\n",
    "    return re.sub(r'\\s+', ' ', string.strip())\n",
    "    \n",
    "def get_ids(filename):\n",
    "    \n",
    "    with open(f\"../data/evaluation_sentences_csv/{filename}.csv\",\"r\") as infile:\n",
    "\n",
    "        ids = []\n",
    "\n",
    "        header = infile.readline()\n",
    "        reader = csv.reader(infile)\n",
    "        \n",
    "        for row in reader:\n",
    "            sentence_id = normalized(row[0])\n",
    "            ids.append(sentence_id)\n",
    "\n",
    "        return ids\n",
    "\n",
    "all_ids = []\n",
    "for file in files:\n",
    "    ids = get_ids(file)\n",
    "    all_ids.extend(ids)\n",
    "\n",
    "raters = ['Pia','Jelke']\n",
    "\n",
    "def check_ids(rater,ids):\n",
    "\n",
    "    with open(f\"../data/IAA/IAA_evaluation_set_{rater}.csv\",\"r\") as infile:\n",
    "\n",
    "        row_counter = 0\n",
    "        id_counter = 0\n",
    "\n",
    "        header = infile.readline()\n",
    "        reader = csv.reader(infile)\n",
    "        \n",
    "        for row in reader:\n",
    "            row_counter += 1\n",
    "            sentence_id = normalized(row[0])\n",
    "            if sentence_id in ids:\n",
    "                id_counter += 1\n",
    "            if sentence_id not in ids:\n",
    "                print(f\"did not find {sentence_id} in ids\")\n",
    "\n",
    "\n",
    "    print(f\"found {id_counter} ids out of {row_counter} sentences in {rater}'s evaluation set\")\n",
    "                \n",
    "\n",
    "for rater in raters:\n",
    "    check_ids(rater,all_ids)"
   ]
  },
  {
   "cell_type": "markdown",
   "metadata": {},
   "source": [
    "#### Convert .csv files to .txt for further revision as necessary"
   ]
  },
  {
   "cell_type": "code",
   "execution_count": 51,
   "metadata": {},
   "outputs": [],
   "source": [
    "to_edit = [\"noun_phrases_positive\"]\n",
    "\n",
    "for file in to_edit:\n",
    "    df = pd.read_csv(f'../experiment_2/AtypicalAnimacy/expectations/csv/{file}.csv')  # comma is default\n",
    "    df.to_csv(\n",
    "        f'../experiment_2/AtypicalAnimacy/expectations/txt/{file}.txt', # assumes /txt dir exists\n",
    "        sep='\\t',\n",
    "        index=False,\n",
    "        header=False\n",
    "    )"
   ]
  },
  {
   "cell_type": "markdown",
   "metadata": {},
   "source": [
    "#### Convert processed .txt files back to .csv\n",
    "\n",
    "The function below allows for converting txt files to csv and dropping specified columns."
   ]
  },
  {
   "cell_type": "code",
   "execution_count": 52,
   "metadata": {},
   "outputs": [],
   "source": [
    "for file in to_edit:\n",
    "    #column_names = ['id','sentence','masked_sentence','AI_phrase','mask','AI_entity','component','expectation','prediction']\n",
    "    column_names = ['id','Previous Sentence','Current Sentence','Masked Sentence','Next Sentence','AI Phrase','Suggested Mask',\n",
    "                        'AI Entity','Anthropomorphic Component','Target Expression','Animated']\n",
    "    df = pd.read_csv(f'../experiment_2/AtypicalAnimacy/expectations/txt/{file}.txt', sep='\\t', header=None, names=column_names,index_col=False)\n",
    "    df.to_csv(f'../experiment_2/AtypicalAnimacy/expectations/csv/{file}.csv', index=False)  # comma is the default delimiter"
   ]
  },
  {
   "cell_type": "code",
   "execution_count": 41,
   "metadata": {},
   "outputs": [
    {
     "name": "stdout",
     "output_type": "stream",
     "text": [
      "Saved to ../experiment_1/anthroscore/predictions/csv/noun_phrases_positive.csv\n"
     ]
    }
   ],
   "source": [
    "def txt_to_csv(input_file,output_file,column_names,columns_to_drop=None):\n",
    "\n",
    "    df = pd.read_csv(input_file, sep='\\t', header=None, names=column_names)\n",
    "\n",
    "    if columns_to_drop:\n",
    "        df = df.drop(columns=columns_to_drop)\n",
    "\n",
    "    df.to_csv(output_file, index=False)\n",
    "    print(f\"Saved to {output_file}\")\n",
    "\n",
    "AA_column_names = ['id','previous_sentence','current_sentence','masked_sentence','next_sentence','AI_phrase',\n",
    "                                'masked_phrase','AI_entity','component','target_expression','expectations','target_sentence',\n",
    "                                 'predicted','scores','predicted_tokens','predictions']\n",
    "AA_columns_to_drop = ['target_expression', 'target_sentence', 'predicted', 'scores', 'predicted_tokens']\n",
    "\n",
    "anthroscore_column_names = ['id','sentence','masked_sentence','AI_phrase','mask','AI_entity',\n",
    "                            'component','original_term','original_noun','expectations','predictions']\n",
    "anthroscore_columns_to_drop = ['original_term','original_noun']\n",
    "\n",
    "column_names = ['id','sentence','masked_sentence','AI_phrase','mask','AI_entity','component','expectation','prediction']\n",
    "\n",
    "for file in to_edit:\n",
    "    input_file_path = f\"../experiment_1/anthroscore/predictions/txt/{file}.txt\"\n",
    "    output_file_path = f\"../experiment_1/anthroscore/predictions/csv/{file}.csv\"\n",
    "    txt_to_csv(input_file_path,output_file_path,column_names)"
   ]
  },
  {
   "cell_type": "markdown",
   "metadata": {},
   "source": [
    "#### Convert .csv files to .pkl (for the AtypicalAnimacy evaluation)"
   ]
  },
  {
   "cell_type": "code",
   "execution_count": 3,
   "metadata": {},
   "outputs": [
    {
     "name": "stdout",
     "output_type": "stream",
     "text": [
      "Saved to ../experiment_2/AtypicalAnimacy/expectations/pkl/adjective_phrases_inconclusive.pkl\n",
      "Saved to ../experiment_2/AtypicalAnimacy/expectations/pkl/adjective_phrases_negative.pkl\n",
      "Saved to ../experiment_2/AtypicalAnimacy/expectations/pkl/adjective_phrases_positive.pkl\n",
      "Saved to ../experiment_2/AtypicalAnimacy/expectations/pkl/comparisons_inconclusive.pkl\n",
      "Saved to ../experiment_2/AtypicalAnimacy/expectations/pkl/noun_phrases_positive.pkl\n",
      "Saved to ../experiment_2/AtypicalAnimacy/expectations/pkl/possessives_positive.pkl\n",
      "Saved to ../experiment_2/AtypicalAnimacy/expectations/pkl/verb_objects_inconclusive.pkl\n",
      "Saved to ../experiment_2/AtypicalAnimacy/expectations/pkl/verb_objects_negative.pkl\n",
      "Saved to ../experiment_2/AtypicalAnimacy/expectations/pkl/verb_objects_positive.pkl\n",
      "Saved to ../experiment_2/AtypicalAnimacy/expectations/pkl/verb_subjects_inconclusive.pkl\n",
      "Saved to ../experiment_2/AtypicalAnimacy/expectations/pkl/verb_subjects_negative.pkl\n",
      "Saved to ../experiment_2/AtypicalAnimacy/expectations/pkl/verb_subjects_positive.pkl\n"
     ]
    }
   ],
   "source": [
    "def csv_to_AA_pkl(csv_path,pkl_path,rename_map):\n",
    "    \"\"\"\n",
    "    This function takes a .csv file, renames columns and saves as a .pkl file.\n",
    "    \n",
    "      :param csv_path: csv_path (str): Path to input CSV.\n",
    "      :type csv_path: string\n",
    "      :param pkl_path: pkl_path (str): Path for output PKL.\n",
    "      :type pkl_path: string\n",
    "      :param rename_map: dictionary that maps old column names to new column names\n",
    "      :type rename_map: dict\n",
    "    \"\"\"\n",
    "    df = pd.read_csv(csv_path)\n",
    "    df = df.rename(columns=rename_map)\n",
    "\n",
    "    df.to_pickle(pkl_path, compression=None)\n",
    "    print(f\"Saved to {pkl_path}\")\n",
    "\n",
    "column_map = {'id':'Id',\n",
    "              'Previous Sentence':'prevSentence',\n",
    "              'Current Sentence':'currentSentence',\n",
    "              'Masked Sentence':'maskedSentence',\n",
    "              'Next Sentence':'nextSentence',\n",
    "              'AI Phrase':'AIPhrase',\n",
    "              'Suggested Mask':'suggestedMask',\n",
    "              'AI Entity':'AIEntity',\n",
    "              'Anthropomorphic Component':'anthroComponent',\n",
    "              'Target Expression':'targetExpression',\n",
    "              'Animated':'animated'\n",
    "             }\n",
    "\n",
    "for filename in files:    \n",
    "    csv_path = f\"../experiment_2/AtypicalAnimacy/expectations/csv/{filename}.csv\"\n",
    "    pkl_path = f\"../experiment_2/AtypicalAnimacy/expectations/pkl/{filename}.pkl\"\n",
    "    csv_to_AA_pkl(csv_path,pkl_path,column_map)"
   ]
  },
  {
   "cell_type": "code",
   "execution_count": null,
   "metadata": {},
   "outputs": [],
   "source": []
  }
 ],
 "metadata": {
  "interpreter": {
   "hash": "1f37b899a14b1e53256e3dbe85dea3859019f1cb8d1c44a9c4840877cfd0e7ef"
  },
  "kernelspec": {
   "display_name": "Python (.venv)",
   "language": "python",
   "name": ".venv"
  },
  "language_info": {
   "codemirror_mode": {
    "name": "ipython",
    "version": 3
   },
   "file_extension": ".py",
   "mimetype": "text/x-python",
   "name": "python",
   "nbconvert_exporter": "python",
   "pygments_lexer": "ipython3",
   "version": "3.12.7"
  }
 },
 "nbformat": 4,
 "nbformat_minor": 4
}
