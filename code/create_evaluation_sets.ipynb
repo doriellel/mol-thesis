{
 "cells": [
  {
   "cell_type": "markdown",
   "metadata": {},
   "source": [
    "# Evaluation set creation\n",
    "\n",
    "This notebook provides code for creating evaluation sets from the dataframes using the selected sentences and their unique IDs. The evaluation sets will contain the fields that are needed both for the AnthroScore evaluation as well as the Atypical Animacy evaluation. "
   ]
  },
  {
   "cell_type": "markdown",
   "metadata": {},
   "source": [
    "#### Validate evaluation set\n",
    "\n",
    "Make sure that there are no duplicates within a set, and that there are no cases mistakenly labelled as both positive and negative"
   ]
  },
  {
   "cell_type": "code",
   "execution_count": 27,
   "metadata": {},
   "outputs": [],
   "source": [
    "def check_conflicting_annotations(filename):\n",
    "\n",
    "    conflicting_annotation = False\n",
    "\n",
    "    positive_sentences_dict = get_sentences_dict(filename,\"positive\")\n",
    "    negative_sentences_dict = get_sentences_dict(filename,\"negative\")\n",
    "\n",
    "    for positive_id,sent in positive_sentences_dict.items():\n",
    "        if positive_id in negative_sentences_dict:\n",
    "            conflicting_annotation = True\n",
    "            print(\"the sentence with the ID \",positive_id,\" appears in the negative set with the same ID\")\n",
    "        elif sent in negative_sentences_dict.values():\n",
    "            onflicting_annotation = True\n",
    "            negative_id = [key for keys in negative_sentences_dict.keys() if negative_sentences_dict[key] == sent][0]\n",
    "            print(\"the sentence with the ID  \",positive_id,\n",
    "                  \" appears in the negative set with the ID \",negative_id)\n",
    "\n",
    "    return conflicting_annotation\n",
    "\n",
    "def get_sentences_dict(filename,score):   \n",
    "\n",
    "    sentences_dict = {}\n",
    "    duplicate_ids = []\n",
    "    duplicate_sentence_pairs = []\n",
    "    \n",
    "    sentences = open(f\"../preprocessed_data/evaluation_sentences/50_{filename}_{score}.txt\",\"r\")\n",
    "    \n",
    "    for line in sentences.readlines():\n",
    "        line = line.strip()\n",
    "        line = line.split(\"\\t\")\n",
    "        sent_id = line[0]\n",
    "        sent = line[1]\n",
    "        if sent_id not in sentences_dict:\n",
    "            if sent not in sentences_dict.values():\n",
    "                sentences_dict[sent_id] = sent\n",
    "            else: # the sentence appears twice with different IDs \n",
    "                other_id = [key for key in sentences_dict if sentences_dict[key] == sent][0]\n",
    "                duplicate_sentence = (other_id,sent_id)\n",
    "                duplicate_sentence_pairs.append(duplicate_sentence) \n",
    "                sentences_dict[other_id] = sent # still add to id-sentence pairs \n",
    "        else: # the sentence appears twice with the same ID\n",
    "            duplicate_ids.append(sent_id)\n",
    "\n",
    "    if len(sentences_dict.keys()) > 50:\n",
    "        print(f\"there are more than 50 sentences in 50_{filename}_{score}.txt\")\n",
    "    elif len(sentences_dict.keys()) < 50:\n",
    "        print(f\"there are less than 50 sentences in 50_{filename}_{score}.txt\")\n",
    "\n",
    "    if duplicate_ids:\n",
    "        print(\"the sentences with the following ids appear twice: \",duplicate_ids,\n",
    "             f\" in 50_{filename}_{score}.txt\")\n",
    "\n",
    "    if duplicate_sentence_pairs:\n",
    "        print(\"the following ID pairs refer to the same sentence: \",duplicate_sentence_pairs,\n",
    "             f\" in 50_{filename}_{score}.txt\")\n",
    "\n",
    "    return sentences_dict"
   ]
  },
  {
   "cell_type": "markdown",
   "metadata": {},
   "source": [
    "#### Check sentences for each cateogry\n",
    "\n",
    "change parameter of get_sentences. The options are:\n",
    "1. agent_subjects - sentences in which the AI entity is the subject of an anthropomorphic verb (nsubj)\n",
    "2. agent_objects - sentences in which the AI entity is object (agent) of an anthropomorphic verb in the passive voice (pobj)\n",
    "3. nonagent_objects - sentences in which the AI entity is object (cognizer) of an anthropomorphic verb\n",
    "4. adjective_phrases - sentences in which the AI entity is part of an anthropomorphic adjectival phrase\n",
    "5. noun_phrases - sentences in which the AI entity is part of an anthropomorphic noun phrase\n",
    "6. possessives - sentences in which the AI entity is immediately followed by a possessive marker\n",
    "7. comparisons - sentences in which the AI entity is being compared to humans explicitly"
   ]
  },
  {
   "cell_type": "code",
   "execution_count": 28,
   "metadata": {},
   "outputs": [
    {
     "name": "stdout",
     "output_type": "stream",
     "text": [
      "No conflicting annotations. Clean up duplicates if exist before proceeding.\n"
     ]
    }
   ],
   "source": [
    "conflicting_annotations = check_conflicting_annotations(\"adjective_phrases\")\n",
    "if conflicting_annotations:\n",
    "    print(\"Resolve conflicting annotations before proceeding!!!\")\n",
    "else:\n",
    "    print(\"No conflicting annotations. Clean up duplicates if exist before proceeding.\")"
   ]
  },
  {
   "cell_type": "code",
   "execution_count": null,
   "metadata": {},
   "outputs": [],
   "source": []
  }
 ],
 "metadata": {
  "interpreter": {
   "hash": "1f37b899a14b1e53256e3dbe85dea3859019f1cb8d1c44a9c4840877cfd0e7ef"
  },
  "kernelspec": {
   "display_name": "Python (.venv)",
   "language": "python",
   "name": ".venv"
  },
  "language_info": {
   "codemirror_mode": {
    "name": "ipython",
    "version": 3
   },
   "file_extension": ".py",
   "mimetype": "text/x-python",
   "name": "python",
   "nbconvert_exporter": "python",
   "pygments_lexer": "ipython3",
   "version": "3.12.7"
  }
 },
 "nbformat": 4,
 "nbformat_minor": 4
}
