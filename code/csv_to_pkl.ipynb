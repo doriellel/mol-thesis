{
 "cells": [
  {
   "cell_type": "code",
   "execution_count": 5,
   "id": "d372d9bf-20ff-4fe5-a1f8-5d47e4aa3afb",
   "metadata": {},
   "outputs": [],
   "source": [
    "import pickle\n",
    "import pandas as pd\n",
    "\n",
    "def csv_to_AA_pkl(csv_path,pkl_path,rename_map):\n",
    "    \"\"\"\n",
    "    This function takes a .csv file, renames columns and saves as a .pkl file.\n",
    "    \n",
    "      :param csv_path: csv_path (str): Path to input CSV.\n",
    "      :type csv_path: string\n",
    "      :param pkl_path: pkl_path (str): Path for output PKL.\n",
    "      :type pkl_path: string\n",
    "      :param rename_map: dictionary that maps old column names to new column names\n",
    "      :type rename_map: dict\n",
    "    \"\"\"\n",
    "    df = pd.read_csv(csv_path)\n",
    "    df = df.rename(columns=rename_map)\n",
    "\n",
    "    df.to_pickle(pkl_path, compression=None)\n",
    "    print(f\"Saved to {pkl_path}\")\n",
    "\n",
    "column_map = {'id':'Id',\n",
    "              'Previous Sentence':'prevSentence',\n",
    "              'Current Sentence':'currentSentence',\n",
    "              'Masked Sentence':'maskedSentence',\n",
    "              'Next Sentence':'nextSentence',\n",
    "              'AI Phrase':'AIPhrase',\n",
    "              'Suggested Mask':'suggestedMask',\n",
    "              'AI Entity':'AIEntity',\n",
    "              'Anthropomorphic Component':'anthroComponent',\n",
    "              'Target Expression':'targetExpression',\n",
    "              'Animated':'animated'\n",
    "             }"
   ]
  },
  {
   "cell_type": "code",
   "execution_count": 6,
   "id": "e1711f00-ad57-4662-ac50-c17a3dfe4b99",
   "metadata": {},
   "outputs": [
    {
     "name": "stdout",
     "output_type": "stream",
     "text": [
      "Saved to ../experiment_2/AtypicalAnimacy/expectations/pkl/adjective_phrases_inconclusive.pkl\n",
      "Saved to ../experiment_2/AtypicalAnimacy/expectations/pkl/adjective_phrases_negative.pkl\n",
      "Saved to ../experiment_2/AtypicalAnimacy/expectations/pkl/adjective_phrases_positive.pkl\n",
      "Saved to ../experiment_2/AtypicalAnimacy/expectations/pkl/comparisons_inconclusive.pkl\n",
      "Saved to ../experiment_2/AtypicalAnimacy/expectations/pkl/noun_phrases_positive.pkl\n",
      "Saved to ../experiment_2/AtypicalAnimacy/expectations/pkl/possessives_positive.pkl\n",
      "Saved to ../experiment_2/AtypicalAnimacy/expectations/pkl/verb_objects_inconclusive.pkl\n",
      "Saved to ../experiment_2/AtypicalAnimacy/expectations/pkl/verb_objects_negative.pkl\n",
      "Saved to ../experiment_2/AtypicalAnimacy/expectations/pkl/verb_objects_positive.pkl\n",
      "Saved to ../experiment_2/AtypicalAnimacy/expectations/pkl/verb_subjects_inconclusive.pkl\n",
      "Saved to ../experiment_2/AtypicalAnimacy/expectations/pkl/verb_subjects_negative.pkl\n",
      "Saved to ../experiment_2/AtypicalAnimacy/expectations/pkl/verb_subjects_positive.pkl\n"
     ]
    }
   ],
   "source": [
    "files = [\"adjective_phrases_inconclusive\",\n",
    "         \"adjective_phrases_negative\",\n",
    "         \"adjective_phrases_positive\",\n",
    "         \"comparisons_inconclusive\",\n",
    "         \"noun_phrases_positive\",\n",
    "         \"possessives_positive\",\n",
    "         \"verb_objects_inconclusive\",\n",
    "         \"verb_objects_negative\",\n",
    "         \"verb_objects_positive\",\n",
    "         \"verb_subjects_inconclusive\",\n",
    "         \"verb_subjects_negative\",\n",
    "         \"verb_subjects_positive\"\n",
    "        ]\n",
    "\n",
    "for filename in files:    \n",
    "    csv_path = f\"../experiment_2/AtypicalAnimacy/expectations/csv/{filename}.csv\"\n",
    "    pkl_path = f\"../experiment_2/AtypicalAnimacy/expectations/pkl/{filename}.pkl\"\n",
    "    csv_to_AA_pkl(csv_path,pkl_path,column_map)"
   ]
  },
  {
   "cell_type": "code",
   "execution_count": null,
   "id": "e55f8ab8-48fa-4a40-8f82-cbc6e5139479",
   "metadata": {},
   "outputs": [],
   "source": []
  }
 ],
 "metadata": {
  "kernelspec": {
   "display_name": "atypical",
   "language": "python",
   "name": ".aa_venv"
  },
  "language_info": {
   "codemirror_mode": {
    "name": "ipython",
    "version": 3
   },
   "file_extension": ".py",
   "mimetype": "text/x-python",
   "name": "python",
   "nbconvert_exporter": "python",
   "pygments_lexer": "ipython3",
   "version": "3.12.7"
  }
 },
 "nbformat": 4,
 "nbformat_minor": 5
}
