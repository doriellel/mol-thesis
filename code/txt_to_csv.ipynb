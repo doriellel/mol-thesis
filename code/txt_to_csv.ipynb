{
 "cells": [
  {
   "cell_type": "markdown",
   "metadata": {},
   "source": [
    "### Convert txt files to csv\n",
    "\n",
    "The input txt files were manually compiled and annotated.\n",
    "The output csv files are used as input for the AnthroScore evaluation, and for creating the AtypicalAnimacy flavored evaluation sets (.pkl)."
   ]
  },
  {
   "cell_type": "code",
   "execution_count": 3,
   "metadata": {},
   "outputs": [],
   "source": [
    "import pandas as pd\n",
    "\n",
    "files = [\"adjective_phrases_inconclusive\",\n",
    "         \"adjective_phrases_negative\",\n",
    "         \"adjective_phrases_positive\",\n",
    "         \"comparisons_inconclusive\",\n",
    "         \"noun_phrases_positive\",\n",
    "         \"possessives_positive\",\n",
    "         \"verb_objects_inconclusive\",\n",
    "         \"verb_objects_negative\",\n",
    "         \"verb_objects_positive\",\n",
    "         \"verb_subjects_inconclusive\",\n",
    "         \"verb_subjects_negative\",\n",
    "         \"verb_subjects_positive\"\n",
    "        ]\n",
    "\n",
    "\n",
    "for file in files:\n",
    "    column_names = ['id', 'sentence', 'AI phrase', 'mask', 'AI entity', 'anthro component', 'score']\n",
    "    df = pd.read_csv(f'../data/evaluation_sentences_txt/{file}.txt', sep='\\t', header=None, names=column_names,index_col=False)\n",
    "    df.to_csv(f'../data/evaluation_sentences_csv/{file}.csv', index=False)  # comma is the default delimiter"
   ]
  },
  {
   "cell_type": "markdown",
   "metadata": {},
   "source": [
    "#### Check if Pia and Jelke's IAA sentences exist in the evaluation sets after revision."
   ]
  },
  {
   "cell_type": "code",
   "execution_count": 4,
   "metadata": {},
   "outputs": [
    {
     "name": "stdout",
     "output_type": "stream",
     "text": [
      "found 42 ids out of 42 sentences in Pia's evaluation set\n",
      "found 42 ids out of 42 sentences in Jelke's evaluation set\n"
     ]
    }
   ],
   "source": [
    "import csv\n",
    "import re\n",
    "\n",
    "def normalized(string):\n",
    "    return re.sub(r'\\s+', ' ', string.strip())\n",
    "    \n",
    "\n",
    "def get_ids(filename):\n",
    "    \n",
    "    with open(f\"../data/evaluation_sentences_csv/{filename}.csv\",\"r\") as infile:\n",
    "\n",
    "        ids = []\n",
    "\n",
    "        header = infile.readline()\n",
    "        reader = csv.reader(infile)\n",
    "        \n",
    "        for row in reader:\n",
    "            sentence_id = normalized(row[0])\n",
    "            ids.append(sentence_id)\n",
    "\n",
    "        return ids\n",
    "\n",
    "\n",
    "files = [\"adjective_phrases_inconclusive\",\n",
    "         \"adjective_phrases_negative\",\n",
    "         \"adjective_phrases_positive\",\n",
    "         \"comparisons_inconclusive\",\n",
    "         \"noun_phrases_positive\",\n",
    "         \"possessives_positive\",\n",
    "         \"verb_objects_inconclusive\",\n",
    "         \"verb_objects_negative\",\n",
    "         \"verb_objects_positive\",\n",
    "         \"verb_subjects_inconclusive\",\n",
    "         \"verb_subjects_negative\",\n",
    "         \"verb_subjects_positive\"\n",
    "        ]\n",
    "\n",
    "\n",
    "all_ids = []\n",
    "for file in files:\n",
    "    ids = get_ids(file)\n",
    "    all_ids.extend(ids)\n",
    "\n",
    "raters = ['Pia','Jelke']\n",
    "\n",
    "def check_ids(rater,ids):\n",
    "\n",
    "    with open(f\"../data/IAA/IAA_evaluation_set_{rater}.csv\",\"r\") as infile:\n",
    "\n",
    "        row_counter = 0\n",
    "        id_counter = 0\n",
    "\n",
    "        header = infile.readline()\n",
    "        reader = csv.reader(infile)\n",
    "        \n",
    "        for row in reader:\n",
    "            row_counter += 1\n",
    "            sentence_id = normalized(row[0])\n",
    "            if sentence_id in ids:\n",
    "                id_counter += 1\n",
    "            if sentence_id not in ids:\n",
    "                print(f\"did not find {sentence_id} in ids\")\n",
    "\n",
    "\n",
    "    print(f\"found {id_counter} ids out of {row_counter} sentences in {rater}'s evaluation set\")\n",
    "                \n",
    "\n",
    "for rater in raters:\n",
    "    check_ids(rater,all_ids)"
   ]
  },
  {
   "cell_type": "code",
   "execution_count": null,
   "metadata": {},
   "outputs": [],
   "source": []
  }
 ],
 "metadata": {
  "interpreter": {
   "hash": "1f37b899a14b1e53256e3dbe85dea3859019f1cb8d1c44a9c4840877cfd0e7ef"
  },
  "kernelspec": {
   "display_name": "Python (.venv)",
   "language": "python",
   "name": ".venv"
  },
  "language_info": {
   "codemirror_mode": {
    "name": "ipython",
    "version": 3
   },
   "file_extension": ".py",
   "mimetype": "text/x-python",
   "name": "python",
   "nbconvert_exporter": "python",
   "pygments_lexer": "ipython3",
   "version": "3.12.7"
  }
 },
 "nbformat": 4,
 "nbformat_minor": 4
}
