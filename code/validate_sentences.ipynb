{
 "cells": [
  {
   "cell_type": "markdown",
   "metadata": {},
   "source": [
    "# Check wellformedness of preprocessed data sentences\n",
    "\n",
    "This notebook provides code for making sure that no sentence was annotated with conflicting annotations, and that the .txt files used to create the evaluation sets are well-formed - i.e, the IDs contain the database prefix (used to locate them in the dataframe) and that each row contains exactly five tab-separated values."
   ]
  },
  {
   "cell_type": "code",
   "execution_count": 62,
   "metadata": {},
   "outputs": [],
   "source": [
    "import re\n",
    "\n",
    "def check_conflicting_annotations(filename,case1,case2):\n",
    "\n",
    "    print(f\"Comparing {case1} cases and {case2} cases for the {filename} set...\")\n",
    "\n",
    "    conflicting_annotation = False\n",
    "\n",
    "    dict1 = get_sentences_dict(filename,case1)\n",
    "    dict2 = get_sentences_dict(filename,case2)\n",
    "\n",
    "    for id1,sent in dict1.items():\n",
    "        if id1 in dict2:\n",
    "            conflicting_annotation = True\n",
    "            print(f\"comparing {case1} cases and {case2} cases\")\n",
    "            print(f\"the {case1} sentence with the ID \",id1,f\" appears in the {case2} set with the same ID\")\n",
    "        elif sent in dict2.values():\n",
    "            conflicting_annotation = True\n",
    "            id2 = [key for keys in dict2.keys() if dict2[key] == sent][0]\n",
    "            print(f\"the {case1} sentence with the ID  \",id1,\n",
    "                  f\" appears in the {case2} set with the ID \",id2)\n",
    "\n",
    "    return conflicting_annotation\n",
    "\n",
    "def get_anthro_components(filename,case):\n",
    "\n",
    "    print(f\"Retrieving a list of anthropomorphic words in {filename}_{case}.txt:\")\n",
    "\n",
    "    anthro_components = {}\n",
    "\n",
    "    sentences_dict = get_sentences_dict(filename,case)\n",
    "    all_sentences_info = sentences_dict.values()\n",
    "    \n",
    "    for sent_info in all_sentences_info:\n",
    "        if sent_info[4] not in anthro_components:\n",
    "            anthro_components[sent_info[4]] = 1\n",
    "        else:\n",
    "            anthro_components[sent_info[4]] += 1\n",
    "\n",
    "    return anthro_components\n",
    "\n",
    "def get_sentences_dict(filename,score):   \n",
    "\n",
    "    sentences_dict = {}\n",
    "    duplicate_ids = []\n",
    "    duplicate_sentence_pairs = []\n",
    "    \n",
    "    sentences = open(f\"../preprocessed_data/evaluation_sentences/50_{filename}_{score}.txt\",\"r\")\n",
    "    \n",
    "    for line in sentences.readlines():\n",
    "        line = line.strip()\n",
    "        line = line.split(\"\\t\")\n",
    "        sent_id = line[0]\n",
    "        sent_info = line[1:]\n",
    "\n",
    "        # wellformedness checks\n",
    "        if len(line) != 6:\n",
    "            print(f\"The row with the ID {sent_id} in {filename}_{score}.txt is not well-formed.\")\n",
    "        id_prefix = sent_id[:6]\n",
    "        if not re.match(r\"^[1-5]{1}_(arx|acl)_\", id_prefix):\n",
    "            print(f\"The ID {sent_id} in {filename}_{score} is missing a database prefix.\")\n",
    "        \n",
    "        if sent_id not in sentences_dict:\n",
    "            if sent_info not in sentences_dict.values():\n",
    "                sentences_dict[sent_id] = sent_info\n",
    "            else: # the sentence appears twice with different IDs \n",
    "                other_id = [key for key in sentences_dict if sentences_dict[key] == sent][0]\n",
    "                duplicate_sentence = (other_id,sent_id)\n",
    "                duplicate_sentence_pairs.append(duplicate_sentence) \n",
    "        else: # the sentence appears twice with the same ID\n",
    "            duplicate_ids.append(sent_id)\n",
    "\n",
    "    if len(sentences_dict.keys()) > 50 and score != \"inconclusive\":\n",
    "        print(f\"There are more than 50 sentences in 50_{filename}_{score}.txt.\")\n",
    "    elif len(sentences_dict.keys()) < 50 and score != \"inconclusive\":\n",
    "        print(f\"There are less than 50 sentences in 50_{filename}_{score}.txt.\")\n",
    "\n",
    "    if duplicate_ids:\n",
    "        print(\"The sentences with the following ids appear twice: \",duplicate_ids,\n",
    "             f\" in 50_{filename}_{score}.txt\")\n",
    "\n",
    "    if duplicate_sentence_pairs:\n",
    "        print(\"The following ID pairs refer to the same sentence: \",duplicate_sentence_pairs,\n",
    "             f\" in 50_{filename}_{score}.txt\")\n",
    "\n",
    "    return sentences_dict"
   ]
  },
  {
   "cell_type": "markdown",
   "metadata": {},
   "source": [
    "#### Check sentences for each category\n",
    "\n",
    "change parameter of get_sentences. The options are:\n",
    "1. agent_subjects - sentences in which the AI entity is the subject of an anthropomorphic verb (nsubj)\n",
    "2. agent_objects - sentences in which the AI entity is object (agent) of an anthropomorphic verb in the passive voice (pobj)\n",
    "3. nonagent_objects - sentences in which the AI entity is object (cognizer) of an anthropomorphic verb\n",
    "4. adjective_phrases - sentences in which the AI entity is part of an anthropomorphic adjectival phrase\n",
    "5. noun_phrases - sentences in which the AI entity is part of an anthropomorphic noun phrase\n",
    "6. possessives - sentences in which the AI entity is immediately followed by a possessive marker\n",
    "7. comparisons - sentences in which the AI entity is being compared to humans explicitly"
   ]
  },
  {
   "cell_type": "code",
   "execution_count": 65,
   "metadata": {},
   "outputs": [
    {
     "name": "stdout",
     "output_type": "stream",
     "text": [
      "Comparing positive cases and negative cases for the adjective_phrases set...\n",
      "Comparing positive cases and inconclusive cases for the adjective_phrases set...\n",
      "Comparing negative cases and inconclusive cases for the adjective_phrases set...\n",
      "No conflicting annotations. Clean up duplicates and fix any ill-formed IDs or rows before proceeding.\n",
      "\n",
      "Retrieving a list of anthropomorphic words in adjective_phrases_positive.txt:\n",
      "{'aware': 7, 'intelligent': 5, 'conscious': 6, 'responsive': 1, 'confident': 5, 'culturally cognizant and value-aligned': 1, 'attentive': 2, 'smart but forgetful': 1, 'malicious': 5, 'manipulative': 1, 'ethically conscious': 1, 'smart and autonomous': 1, 'eager': 1, 'creative': 1, 'blind': 2, 'sensitive': 1, 'deceptive': 1, 'emotionally intelligent': 1, 'smart autonomous': 1, 'vulnerable': 3, 'thoughtful': 1, 'confused': 1, 'vulnerable,confused': 1}\n"
     ]
    }
   ],
   "source": [
    "conflicting_pos_neg_annotations = check_conflicting_annotations(\"adjective_phrases\",\"positive\",\"negative\")\n",
    "conflicting_pos_inc_annotations = check_conflicting_annotations(\"adjective_phrases\",\"positive\",\"inconclusive\")\n",
    "conflicting_neg_inc_annotations = check_conflicting_annotations(\"adjective_phrases\",\"negative\",\"inconclusive\")\n",
    "\n",
    "if conflicting_pos_neg_annotations:\n",
    "    print(\"Resolve conflicting annotations in the positive and negative sets!!!\")\n",
    "elif conflicting_pos_inc_annotations:\n",
    "    print(\"Resolve conflicting annotations in the positive and inconclusive sets!!!\")\n",
    "elif conflicting_neg_inc_annotations:\n",
    "    print(\"Resolve conflicting annotations in the negative and inconclusive sets!!!\")\n",
    "else:\n",
    "    print(\"No conflicting annotations. Clean up duplicates and fix any ill-formed IDs or rows before proceeding.\")\n",
    "\n",
    "print()\n",
    "\n",
    "anthro_components = get_anthro_components(\"adjective_phrases\",\"positive\")\n",
    "print(anthro_components)"
   ]
  },
  {
   "cell_type": "code",
   "execution_count": null,
   "metadata": {},
   "outputs": [],
   "source": []
  }
 ],
 "metadata": {
  "interpreter": {
   "hash": "1f37b899a14b1e53256e3dbe85dea3859019f1cb8d1c44a9c4840877cfd0e7ef"
  },
  "kernelspec": {
   "display_name": "Python (.venv)",
   "language": "python",
   "name": ".venv"
  },
  "language_info": {
   "codemirror_mode": {
    "name": "ipython",
    "version": 3
   },
   "file_extension": ".py",
   "mimetype": "text/x-python",
   "name": "python",
   "nbconvert_exporter": "python",
   "pygments_lexer": "ipython3",
   "version": "3.12.7"
  }
 },
 "nbformat": 4,
 "nbformat_minor": 4
}
