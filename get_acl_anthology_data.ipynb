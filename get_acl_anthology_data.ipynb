{
 "cells": [
  {
   "cell_type": "markdown",
   "metadata": {},
   "source": [
    "# ACL anthology data extraction\n",
    "\n",
    "This notebook provides code for extracting ACL anthologoy data following the dev documentation here: https://acl-anthology.readthedocs.io/latest/api/anthology/"
   ]
  },
  {
   "cell_type": "code",
   "execution_count": 13,
   "metadata": {},
   "outputs": [
    {
     "name": "stdout",
     "output_type": "stream",
     "text": [
      "Name: acl-anthology\n",
      "Version: 0.5.1\n",
      "Summary: A library for accessing the ACL Anthology\n",
      "Home-page: https://github.com/acl-org/acl-anthology\n",
      "Author: Marcel Bollmann\n",
      "Author-email: marcel@bollmann.me\n",
      "License: Apache-2.0\n",
      "Location: /Users/doriellelonke/Desktop/thesis/.venv/lib/python3.12/site-packages\n",
      "Requires: app-paths, attrs, citeproc-py, diskcache, docopt, gitpython, langcodes, lxml, numpy, omegaconf, platformdirs, pylatexenc, python-slugify, PyYAML, rich, rnc2rng, scipy, texsoup\n",
      "Required-by: \n"
     ]
    }
   ],
   "source": [
    "!pip show acl-anthology"
   ]
  },
  {
   "cell_type": "code",
   "execution_count": 14,
   "metadata": {},
   "outputs": [],
   "source": [
    "#!python -m spacy download en_core_web_md"
   ]
  },
  {
   "cell_type": "code",
   "execution_count": 15,
   "metadata": {},
   "outputs": [
    {
     "data": {
      "text/html": [
       "<pre style=\"white-space:pre;overflow-x:auto;line-height:normal;font-family:Menlo,'DejaVu Sans Mono',consolas,'Courier New',monospace\">/Users/doriellelonke/Desktop/thesis/.venv/lib/python3.12/site-packages/rich/live.py:231: UserWarning: install \n",
       "\"ipywidgets\" for Jupyter support\n",
       "  warnings.warn('install \"ipywidgets\" for Jupyter support')\n",
       "</pre>\n"
      ],
      "text/plain": [
       "/Users/doriellelonke/Desktop/thesis/.venv/lib/python3.12/site-packages/rich/live.py:231: UserWarning: install \n",
       "\"ipywidgets\" for Jupyter support\n",
       "  warnings.warn('install \"ipywidgets\" for Jupyter support')\n"
      ]
     },
     "metadata": {},
     "output_type": "display_data"
    },
    {
     "data": {
      "text/html": [
       "<pre style=\"white-space:pre;overflow-x:auto;line-height:normal;font-family:Menlo,'DejaVu Sans Mono',consolas,'Courier New',monospace\"></pre>\n"
      ],
      "text/plain": []
     },
     "metadata": {},
     "output_type": "display_data"
    }
   ],
   "source": [
    "from acl_anthology import Anthology\n",
    "anthology = Anthology.from_repo()"
   ]
  },
  {
   "cell_type": "code",
   "execution_count": 17,
   "metadata": {},
   "outputs": [
    {
     "name": "stdout",
     "output_type": "stream",
     "text": [
      "7108\n"
     ]
    }
   ],
   "source": [
    "import spacy\n",
    "nlp = spacy.load(\"en_core_web_md\")\n",
    "\n",
    "all_papers = anthology.papers()\n",
    "\n",
    "counter = 0\n",
    "keywords = [' AI ','GPT','LLM', ' LM ','artificial intelligence','language model']\n",
    "\n",
    "with open(\"acl_anthology_sentences.txt\",\"w\") as file:\n",
    "    \n",
    "    for paper in all_papers:\n",
    "        if any(word.casefold() in str(paper.title).casefold() for word in keywords):\n",
    "                \n",
    "            if paper.abstract:\n",
    "                counter += 1\n",
    "                doc = nlp(str(paper.abstract))\n",
    "                    \n",
    "                for sent in doc.sents:\n",
    "                    if any(word.casefold() in sent.text.casefold() for word in keywords):\n",
    "                        file.write(sent.text+'\\n')\n",
    "print(counter)"
   ]
  }
 ],
 "metadata": {
  "interpreter": {
   "hash": "1f37b899a14b1e53256e3dbe85dea3859019f1cb8d1c44a9c4840877cfd0e7ef"
  },
  "kernelspec": {
   "display_name": "Python (.venv)",
   "language": "python",
   "name": ".venv"
  },
  "language_info": {
   "codemirror_mode": {
    "name": "ipython",
    "version": 3
   },
   "file_extension": ".py",
   "mimetype": "text/x-python",
   "name": "python",
   "nbconvert_exporter": "python",
   "pygments_lexer": "ipython3",
   "version": "3.12.7"
  }
 },
 "nbformat": 4,
 "nbformat_minor": 4
}
