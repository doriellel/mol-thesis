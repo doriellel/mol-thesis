{
 "cells": [
  {
   "cell_type": "markdown",
   "metadata": {},
   "source": [
    "# Arxiv data extraction\n",
    "\n",
    "This notebook provides code for extracting Arxiv data following the dev documentation here: https://www.kaggle.com/datasets/Cornell-University/arxiv/code"
   ]
  },
  {
   "cell_type": "code",
   "execution_count": 1,
   "metadata": {},
   "outputs": [
    {
     "name": "stderr",
     "output_type": "stream",
     "text": [
      "/Users/doriellelonke/Desktop/thesis/.venv/lib/python3.12/site-packages/tqdm/auto.py:21: TqdmWarning: IProgress not found. Please update jupyter and ipywidgets. See https://ipywidgets.readthedocs.io/en/stable/user_install.html\n",
      "  from .autonotebook import tqdm as notebook_tqdm\n"
     ]
    }
   ],
   "source": [
    "# code snippet below taken from Kaggle docs\n",
    "\n",
    "import kagglehub\n",
    "from kagglehub import KaggleDatasetAdapter\n",
    "\n",
    "# Set the path to the file you'd like to load\n",
    "file_path = \"arxiv-metadata-oai-snapshot.json\""
   ]
  },
  {
   "cell_type": "code",
   "execution_count": 3,
   "metadata": {},
   "outputs": [
    {
     "name": "stderr",
     "output_type": "stream",
     "text": [
      "/var/folders/h9/9pwlclvs1wb_2zx0p9_rwn1m0000gn/T/ipykernel_28734/1827488669.py:2: DeprecationWarning: load_dataset is deprecated and will be removed in future version.\n",
      "  df = kagglehub.load_dataset(\n"
     ]
    },
    {
     "name": "stdout",
     "output_type": "stream",
     "text": [
      "First 5 records:           id           submitter  \\\n",
      "0  0704.0001      Pavel Nadolsky   \n",
      "1  0704.0002        Louis Theran   \n",
      "2  0704.0003         Hongjun Pan   \n",
      "3  0704.0004        David Callan   \n",
      "4  0704.0005  Alberto Torchinsky   \n",
      "\n",
      "                                             authors  \\\n",
      "0  C. Bal\\'azs, E. L. Berger, P. M. Nadolsky, C.-...   \n",
      "1                    Ileana Streinu and Louis Theran   \n",
      "2                                        Hongjun Pan   \n",
      "3                                       David Callan   \n",
      "4           Wael Abu-Shammala and Alberto Torchinsky   \n",
      "\n",
      "                                               title  \\\n",
      "0  Calculation of prompt diphoton production cros...   \n",
      "1           Sparsity-certifying Graph Decompositions   \n",
      "2  The evolution of the Earth-Moon system based o...   \n",
      "3  A determinant of Stirling cycle numbers counts...   \n",
      "4  From dyadic $\\Lambda_{\\alpha}$ to $\\Lambda_{\\a...   \n",
      "\n",
      "                                  comments  \\\n",
      "0  37 pages, 15 figures; published version   \n",
      "1    To appear in Graphs and Combinatorics   \n",
      "2                      23 pages, 3 figures   \n",
      "3                                 11 pages   \n",
      "4                                     None   \n",
      "\n",
      "                                 journal-ref                         doi  \\\n",
      "0                   Phys.Rev.D76:013009,2007  10.1103/PhysRevD.76.013009   \n",
      "1                                       None                        None   \n",
      "2                                       None                        None   \n",
      "3                                       None                        None   \n",
      "4  Illinois J. Math. 52 (2008) no.2, 681-689                        None   \n",
      "\n",
      "          report-no       categories  \\\n",
      "0  ANL-HEP-PR-07-12           hep-ph   \n",
      "1              None    math.CO cs.CG   \n",
      "2              None   physics.gen-ph   \n",
      "3              None          math.CO   \n",
      "4              None  math.CA math.FA   \n",
      "\n",
      "                                             license  \\\n",
      "0                                               None   \n",
      "1  http://arxiv.org/licenses/nonexclusive-distrib...   \n",
      "2                                               None   \n",
      "3                                               None   \n",
      "4                                               None   \n",
      "\n",
      "                                            abstract  \\\n",
      "0    A fully differential calculation in perturba...   \n",
      "1    We describe a new algorithm, the $(k,\\ell)$-...   \n",
      "2    The evolution of Earth-Moon system is descri...   \n",
      "3    We show that a determinant of Stirling cycle...   \n",
      "4    In this paper we show how to compute the $\\L...   \n",
      "\n",
      "                                            versions update_date  \\\n",
      "0  [{'version': 'v1', 'created': 'Mon, 2 Apr 2007...  2008-11-26   \n",
      "1  [{'version': 'v1', 'created': 'Sat, 31 Mar 200...  2008-12-13   \n",
      "2  [{'version': 'v1', 'created': 'Sun, 1 Apr 2007...  2008-01-13   \n",
      "3  [{'version': 'v1', 'created': 'Sat, 31 Mar 200...  2007-05-23   \n",
      "4  [{'version': 'v1', 'created': 'Mon, 2 Apr 2007...  2013-10-15   \n",
      "\n",
      "                                      authors_parsed  \n",
      "0  [[Balázs, C., ], [Berger, E. L., ], [Nadolsky,...  \n",
      "1           [[Streinu, Ileana, ], [Theran, Louis, ]]  \n",
      "2                                 [[Pan, Hongjun, ]]  \n",
      "3                                [[Callan, David, ]]  \n",
      "4  [[Abu-Shammala, Wael, ], [Torchinsky, Alberto, ]]  \n"
     ]
    }
   ],
   "source": [
    "# code snippet below taken from Kaggle docs\n",
    "\n",
    "# Load the latest version\n",
    "df = kagglehub.load_dataset(\n",
    "  KaggleDatasetAdapter.PANDAS,\n",
    "  \"Cornell-University/arxiv\",\n",
    "  file_path,\n",
    "  pandas_kwargs={\"lines\": True}\n",
    "  # Provide any additional arguments like \n",
    "  # sql_query or pandas_kwargs. See the \n",
    "  # documenation for more information:\n",
    "  # https://github.com/Kaggle/kagglehub/blob/main/README.md#kaggledatasetadapterpandas\n",
    ")\n",
    "\n",
    "print(\"First 5 records:\", df.head())"
   ]
  },
  {
   "cell_type": "code",
   "execution_count": 19,
   "metadata": {},
   "outputs": [],
   "source": [
    "title_abstract_pairs = list(zip(df['title'], df['abstract'].str.replace('\\n', ' ')))\n",
    "\n",
    "import spacy\n",
    "nlp = spacy.load(\"en_core_web_md\")\n",
    "\n",
    "keywords = [' AI ',' LM ','LLM', 'ChatGPT','artificial intelligence','language model']\n",
    "\n",
    "with open(\"arxiv_sentences.txt\",\"w\") as file:\n",
    "    \n",
    "    for paper in title_abstract_pairs:\n",
    "        if any(word in paper[0] for word in keywords):\n",
    "            counter += 1\n",
    "            doc = nlp(paper[1])\n",
    "                    \n",
    "            for sent in doc.sents:\n",
    "                if any(word in sent.text for word in keywords[3:]): #ignore sentences containing AI, LM or LLM\n",
    "                    sent = sent.text.strip()\n",
    "                    file.write(sent+'\\n')"
   ]
  },
  {
   "cell_type": "code",
   "execution_count": null,
   "metadata": {},
   "outputs": [],
   "source": []
  }
 ],
 "metadata": {
  "interpreter": {
   "hash": "1f37b899a14b1e53256e3dbe85dea3859019f1cb8d1c44a9c4840877cfd0e7ef"
  },
  "kernelspec": {
   "display_name": "Python (.venv)",
   "language": "python",
   "name": ".venv"
  },
  "language_info": {
   "codemirror_mode": {
    "name": "ipython",
    "version": 3
   },
   "file_extension": ".py",
   "mimetype": "text/x-python",
   "name": "python",
   "nbconvert_exporter": "python",
   "pygments_lexer": "ipython3",
   "version": "3.12.7"
  }
 },
 "nbformat": 4,
 "nbformat_minor": 4
}
